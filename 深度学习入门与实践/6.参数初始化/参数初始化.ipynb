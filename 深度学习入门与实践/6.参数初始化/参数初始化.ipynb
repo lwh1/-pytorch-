{
 "cells": [
  {
   "cell_type": "markdown",
   "metadata": {},
   "source": [
    "# 参数初始化\n",
    "\n",
    "参数初始化对模型具有较大的影响，不同的初始化方式可能会导致截然不同的结果，所幸的是很多深度学习的先驱们已经帮我们探索了各种各样的初始化方式，所以我们只需要学会如何对模型的参数进行初始化的赋值即可。"
   ]
  },
  {
   "cell_type": "markdown",
   "metadata": {},
   "source": [
    "PyTorch 的初始化方式并没有那么显然，如果你使用最原始的方式创建模型，那么你需要定义模型中的所有参数，当然这样你可以非常方便地定义每个变量的初始化方式，但是对于复杂的模型，这并不容易，而且我们推崇使用 Sequential 和 Module 来定义模型，所以这个时候我们就需要知道如何来自定义初始化方式"
   ]
  },
  {
   "cell_type": "markdown",
   "metadata": {},
   "source": [
    "## 利用NumPy来初始化"
   ]
  },
  {
   "cell_type": "markdown",
   "metadata": {},
   "source": [
    "因为 PyTorch 是一个非常灵活的框架，理论上能够对所有的 Tensor 进行操作，所以我们能够通过定义新的 Tensor 来初始化，直接看下面的例子"
   ]
  },
  {
   "cell_type": "code",
   "execution_count": 1,
   "metadata": {},
   "outputs": [],
   "source": [
    "import numpy as np\n",
    "import torch as t\n",
    "from torch import nn"
   ]
  },
  {
   "cell_type": "code",
   "execution_count": 2,
   "metadata": {},
   "outputs": [],
   "source": [
    "#定义一个Sequential模型\n",
    "net1 = nn.Sequential(\n",
    "    nn.Linear(30, 40),\n",
    "    nn.ReLU(),\n",
    "    nn.Linear(40, 50),\n",
    "    nn.ReLU(),\n",
    "    nn.Linear(50, 10))"
   ]
  },
  {
   "cell_type": "code",
   "execution_count": 3,
   "metadata": {},
   "outputs": [],
   "source": [
    "#访问第一层的参数\n",
    "w1 = net1[0].weight\n",
    "b1 = net1[0].bias"
   ]
  },
  {
   "cell_type": "code",
   "execution_count": 4,
   "metadata": {},
   "outputs": [
    {
     "name": "stdout",
     "output_type": "stream",
     "text": [
      "Parameter containing:\n",
      "tensor([[ 0.0181,  0.0948,  0.0506,  ..., -0.1409, -0.0115, -0.0693],\n",
      "        [ 0.1216, -0.1313,  0.1320,  ...,  0.1517, -0.0901,  0.1155],\n",
      "        [-0.0530, -0.1342, -0.0408,  ..., -0.1554, -0.0282,  0.0669],\n",
      "        ...,\n",
      "        [-0.0844, -0.1797, -0.0172,  ...,  0.1024, -0.1642, -0.1742],\n",
      "        [ 0.0490, -0.0583,  0.0694,  ...,  0.1624,  0.0269, -0.1552],\n",
      "        [-0.0885,  0.0440, -0.1059,  ...,  0.0127, -0.0616,  0.1223]],\n",
      "       requires_grad=True)\n"
     ]
    }
   ],
   "source": [
    "print(w1)"
   ]
  },
  {
   "cell_type": "markdown",
   "metadata": {},
   "source": [
    "注意，这是一个 Parameter，也就是一个特殊的 Tensor，我们可以访问其 .data属性得到其中的数据，然后直接定义一个新的 Tensor 对其进行替换，我们可以使用 PyTorch 中的一些随机数据生成的方式，比如 torch.randn，如果要使用更多 PyTorch 中没有的随机化方式，可以使用 numpy"
   ]
  },
  {
   "cell_type": "code",
   "execution_count": 7,
   "metadata": {},
   "outputs": [],
   "source": [
    "#定义一个Tensor直接对其进行替换\n",
    "net1[0].weight.data = t.from_numpy(np.random.uniform(3, 5, size = (40, 30)))"
   ]
  },
  {
   "cell_type": "code",
   "execution_count": 8,
   "metadata": {},
   "outputs": [
    {
     "name": "stdout",
     "output_type": "stream",
     "text": [
      "Parameter containing:\n",
      "tensor([[4.2542, 3.3324, 4.6188,  ..., 4.0260, 3.9510, 4.9654],\n",
      "        [4.1039, 3.4949, 4.1199,  ..., 4.3006, 3.5761, 4.7687],\n",
      "        [4.5548, 3.9266, 4.3749,  ..., 3.7558, 3.2009, 4.3626],\n",
      "        ...,\n",
      "        [3.9811, 4.0683, 4.4361,  ..., 4.4495, 4.9527, 3.9765],\n",
      "        [3.2905, 4.3531, 3.9420,  ..., 3.2628, 3.4650, 4.6941],\n",
      "        [3.5375, 4.0818, 3.4056,  ..., 4.4286, 3.8838, 4.1949]],\n",
      "       dtype=torch.float64, requires_grad=True)\n"
     ]
    }
   ],
   "source": [
    "print(net1[0].weight)"
   ]
  },
  {
   "cell_type": "markdown",
   "metadata": {},
   "source": [
    "可以看到这个参数的值已经被改变了，也就是说已经被定义成了我们需要的初始化方式，如果模型中某一层需要我们手动去修改，那么我们可以直接用这种方式去访问，但是更多的时候是模型中相同类型的层都需要初始化成相同的方式，这个时候一种更高效的方式是使用循环去访问，比如"
   ]
  },
  {
   "cell_type": "code",
   "execution_count": 9,
   "metadata": {},
   "outputs": [],
   "source": [
    "for layer in net1:\n",
    "    if isinstance(layer, nn.Linear): #判断是否是线性层\n",
    "        param_shape = layer.weight.shape\n",
    "        layer.weight.data = t.from_numpy(np.random.normal(0, 0.5, size = param_shape))  #均值为0，方差为0.5的正态分布"
   ]
  },
  {
   "cell_type": "markdown",
   "metadata": {},
   "source": [
    "小练习：一种非常流行的初始化方式叫 Xavier，方法来源于 2010 年的一篇论文 Understanding the difficulty of training deep feedforward neural networks，其通过数学的推导，证明了这种初始化方式可以使得每一层的输出方差是尽可能相等的，有兴趣的同学可以去看看论文\n",
    "\n",
    "我们给出这种初始化的公式\n",
    "\n",
    "w ∼ Uniform[−6–√nj+nj+1−−−−−−−−√,6–√nj+nj+1−−−−−−−−√]\n",
    " \n",
    "其中  nj  和  nj+1  表示该层的输入和输出数目，所以请尝试实现以下这种初始化方式"
   ]
  },
  {
   "cell_type": "code",
   "execution_count": 10,
   "metadata": {},
   "outputs": [],
   "source": [
    "for layer in net1:\n",
    "    if isinstance(layer, nn.Linear):\n",
    "        param_shape = layer.weight.shape\n",
    "        layer.weight.data = t.from_numpy(np.random.uniform(-(np.sqrt(6)/np.sqrt(param_shape[0] + param_shape[1])), np.sqrt(6)/np.sqrt(param_shape[0] + param_shape[1]), size = param_shape ))"
   ]
  },
  {
   "cell_type": "code",
   "execution_count": 11,
   "metadata": {},
   "outputs": [
    {
     "name": "stdout",
     "output_type": "stream",
     "text": [
      "Parameter containing:\n",
      "tensor([[ 0.1728, -0.0865, -0.2178,  ..., -0.2020, -0.1188, -0.2599],\n",
      "        [-0.1096,  0.1078,  0.0987,  ...,  0.1181, -0.0783,  0.2274],\n",
      "        [ 0.0759,  0.0244,  0.2074,  ..., -0.1392,  0.2112,  0.2863],\n",
      "        ...,\n",
      "        [-0.2193, -0.1192, -0.0763,  ...,  0.0920,  0.2490,  0.1545],\n",
      "        [-0.2714, -0.1899, -0.0217,  ..., -0.1993, -0.0719, -0.0948],\n",
      "        [-0.1040,  0.0149, -0.0359,  ...,  0.1457,  0.0640,  0.0763]],\n",
      "       dtype=torch.float64, requires_grad=True)\n"
     ]
    }
   ],
   "source": [
    "print(net1[0].weight)"
   ]
  },
  {
   "cell_type": "markdown",
   "metadata": {},
   "source": [
    "对于 Module 的参数初始化，其实也非常简单，如果想对其中的某层进行初始化，可以直接像 Sequential 一样对其 Tensor 进行重新定义，其唯一不同的地方在于，如果要用循环的方式访问，需要介绍两个属性，children 和 modules，下面我们举例来说明"
   ]
  },
  {
   "cell_type": "code",
   "execution_count": 18,
   "metadata": {},
   "outputs": [],
   "source": [
    "class sim_net(nn.Module):\n",
    "    def __init__(self):\n",
    "        super(sim_net,self).__init__()\n",
    "        self.l1 = nn.Sequential(\n",
    "            nn.Linear(30, 40),\n",
    "            nn.ReLU()\n",
    "        )\n",
    "        \n",
    "        self.l1[0].weight.data = t.randn(40, 30)#直接对某一层初始化\n",
    "        \n",
    "        self.l2 = nn.Sequential(\n",
    "            nn.Linear(40, 50),\n",
    "            nn.ReLU())\n",
    "        \n",
    "        self.l3 = nn.Sequential(\n",
    "            nn.Linear(50, 10),\n",
    "            nn.ReLU())\n",
    "    \n",
    "    def forward(self,x):\n",
    "        x = self.l1(x)\n",
    "        x = self.l2(x)\n",
    "        x = self.l3(x)\n",
    "        return x"
   ]
  },
  {
   "cell_type": "code",
   "execution_count": 19,
   "metadata": {},
   "outputs": [],
   "source": [
    "net2 = sim_net()"
   ]
  },
  {
   "cell_type": "code",
   "execution_count": 20,
   "metadata": {},
   "outputs": [
    {
     "name": "stdout",
     "output_type": "stream",
     "text": [
      "Sequential(\n",
      "  (0): Linear(in_features=30, out_features=40, bias=True)\n",
      "  (1): ReLU()\n",
      ")\n",
      "Sequential(\n",
      "  (0): Linear(in_features=40, out_features=50, bias=True)\n",
      "  (1): ReLU()\n",
      ")\n",
      "Sequential(\n",
      "  (0): Linear(in_features=50, out_features=10, bias=True)\n",
      "  (1): ReLU()\n",
      ")\n"
     ]
    }
   ],
   "source": [
    "#访问children\n",
    "for i in net2.children():\n",
    "    print(i)"
   ]
  },
  {
   "cell_type": "code",
   "execution_count": 21,
   "metadata": {},
   "outputs": [
    {
     "name": "stdout",
     "output_type": "stream",
     "text": [
      "sim_net(\n",
      "  (l1): Sequential(\n",
      "    (0): Linear(in_features=30, out_features=40, bias=True)\n",
      "    (1): ReLU()\n",
      "  )\n",
      "  (l2): Sequential(\n",
      "    (0): Linear(in_features=40, out_features=50, bias=True)\n",
      "    (1): ReLU()\n",
      "  )\n",
      "  (l3): Sequential(\n",
      "    (0): Linear(in_features=50, out_features=10, bias=True)\n",
      "    (1): ReLU()\n",
      "  )\n",
      ")\n",
      "Sequential(\n",
      "  (0): Linear(in_features=30, out_features=40, bias=True)\n",
      "  (1): ReLU()\n",
      ")\n",
      "Linear(in_features=30, out_features=40, bias=True)\n",
      "ReLU()\n",
      "Sequential(\n",
      "  (0): Linear(in_features=40, out_features=50, bias=True)\n",
      "  (1): ReLU()\n",
      ")\n",
      "Linear(in_features=40, out_features=50, bias=True)\n",
      "ReLU()\n",
      "Sequential(\n",
      "  (0): Linear(in_features=50, out_features=10, bias=True)\n",
      "  (1): ReLU()\n",
      ")\n",
      "Linear(in_features=50, out_features=10, bias=True)\n",
      "ReLU()\n"
     ]
    }
   ],
   "source": [
    "#访问modules\n",
    "for i in net2.modules():\n",
    "    print(i)"
   ]
  },
  {
   "cell_type": "markdown",
   "metadata": {},
   "source": [
    "通过上面的例子，看到区别了吗?\n",
    "\n",
    "children 只会访问到模型定义中的第一层，因为上面的模型中定义了三个 Sequential，所以只会访问到三个 Sequential，而 modules 会访问到最后的结构，比如上面的例子，modules 不仅访问到了 Sequential，也访问到了 Sequential 里面，这就对我们做初始化非常方便，比如"
   ]
  },
  {
   "cell_type": "code",
   "execution_count": 22,
   "metadata": {},
   "outputs": [],
   "source": [
    "for layer in net2.modules():\n",
    "    if isinstance(layer, nn.Linear):\n",
    "        param_shape = layer.weight.shape\n",
    "        layer.weight.data = t.from_numpy(np.random.normal(0, 0.5, size = param_shape))"
   ]
  },
  {
   "cell_type": "markdown",
   "metadata": {},
   "source": [
    "这上面实现了和 Sequential 相同的初始化，同样非常简便"
   ]
  },
  {
   "cell_type": "markdown",
   "metadata": {},
   "source": [
    "## torch.nn.init"
   ]
  },
  {
   "cell_type": "markdown",
   "metadata": {},
   "source": [
    "因为 PyTorch 灵活的特性，我们可以直接对 Tensor 进行操作从而初始化，PyTorch 也提供了初始化的函数帮助我们快速初始化，就是 torch.nn.init，其操作层面仍然在 Tensor 上，下面我们举例说明"
   ]
  },
  {
   "cell_type": "code",
   "execution_count": 23,
   "metadata": {},
   "outputs": [],
   "source": [
    "from torch.nn import init"
   ]
  },
  {
   "cell_type": "code",
   "execution_count": 24,
   "metadata": {},
   "outputs": [
    {
     "name": "stdout",
     "output_type": "stream",
     "text": [
      "Parameter containing:\n",
      "tensor([[ 0.1728, -0.0865, -0.2178,  ..., -0.2020, -0.1188, -0.2599],\n",
      "        [-0.1096,  0.1078,  0.0987,  ...,  0.1181, -0.0783,  0.2274],\n",
      "        [ 0.0759,  0.0244,  0.2074,  ..., -0.1392,  0.2112,  0.2863],\n",
      "        ...,\n",
      "        [-0.2193, -0.1192, -0.0763,  ...,  0.0920,  0.2490,  0.1545],\n",
      "        [-0.2714, -0.1899, -0.0217,  ..., -0.1993, -0.0719, -0.0948],\n",
      "        [-0.1040,  0.0149, -0.0359,  ...,  0.1457,  0.0640,  0.0763]],\n",
      "       dtype=torch.float64, requires_grad=True)\n"
     ]
    }
   ],
   "source": [
    "print(net1[0].weight)"
   ]
  },
  {
   "cell_type": "code",
   "execution_count": 27,
   "metadata": {},
   "outputs": [
    {
     "data": {
      "text/plain": [
       "Parameter containing:\n",
       "tensor([[ 0.1098,  0.2709,  0.2077,  ...,  0.0600, -0.1392, -0.0253],\n",
       "        [ 0.1954, -0.2622, -0.2191,  ..., -0.2887,  0.0946,  0.1183],\n",
       "        [ 0.2487, -0.2438, -0.0709,  ...,  0.1067,  0.1308,  0.1669],\n",
       "        ...,\n",
       "        [ 0.2598, -0.1725,  0.2419,  ..., -0.2708, -0.2478,  0.2844],\n",
       "        [ 0.2041,  0.1854, -0.1187,  ..., -0.0581,  0.0710,  0.2399],\n",
       "        [-0.0458, -0.1974,  0.1865,  ..., -0.0226, -0.2172, -0.1737]],\n",
       "       dtype=torch.float64, requires_grad=True)"
      ]
     },
     "execution_count": 27,
     "metadata": {},
     "output_type": "execute_result"
    }
   ],
   "source": [
    "init.xavier_uniform_(net1[0].weight) #这就是上面提到的Xavier初始化方法，init直接将其作为内置"
   ]
  },
  {
   "cell_type": "code",
   "execution_count": 28,
   "metadata": {},
   "outputs": [
    {
     "name": "stdout",
     "output_type": "stream",
     "text": [
      "Parameter containing:\n",
      "tensor([[ 0.1098,  0.2709,  0.2077,  ...,  0.0600, -0.1392, -0.0253],\n",
      "        [ 0.1954, -0.2622, -0.2191,  ..., -0.2887,  0.0946,  0.1183],\n",
      "        [ 0.2487, -0.2438, -0.0709,  ...,  0.1067,  0.1308,  0.1669],\n",
      "        ...,\n",
      "        [ 0.2598, -0.1725,  0.2419,  ..., -0.2708, -0.2478,  0.2844],\n",
      "        [ 0.2041,  0.1854, -0.1187,  ..., -0.0581,  0.0710,  0.2399],\n",
      "        [-0.0458, -0.1974,  0.1865,  ..., -0.0226, -0.2172, -0.1737]],\n",
      "       dtype=torch.float64, requires_grad=True)\n"
     ]
    }
   ],
   "source": [
    "print(net1[0].weight)"
   ]
  },
  {
   "cell_type": "markdown",
   "metadata": {},
   "source": [
    "可以看到参数已经被修改了\n",
    "\n",
    "torch.nn.init 为我们提供了更多的内置初始化方式，避免了我们重复去实现一些相同的操作\n",
    "\n",
    "上面讲了两种初始化方式，其实它们的本质都是一样的，就是去修改某一层参数的实际值，而 torch.nn.init 提供了更多成熟的深度学习相关的初始化方式，非常方便"
   ]
  },
  {
   "cell_type": "code",
   "execution_count": 30,
   "metadata": {},
   "outputs": [],
   "source": [
    "for layer in net1:\n",
    "    if isinstance(layer, nn.Linear):\n",
    "        init.xavier_uniform_(layer.weight)"
   ]
  },
  {
   "cell_type": "code",
   "execution_count": 31,
   "metadata": {},
   "outputs": [
    {
     "name": "stdout",
     "output_type": "stream",
     "text": [
      "Parameter containing:\n",
      "tensor([[ 0.1935,  0.0831, -0.0388,  ...,  0.2291, -0.2404, -0.0606],\n",
      "        [ 0.1905, -0.0902,  0.2694,  ...,  0.1572, -0.2491, -0.0846],\n",
      "        [-0.2052, -0.2607,  0.1678,  ..., -0.2686, -0.1130,  0.2891],\n",
      "        ...,\n",
      "        [ 0.1637, -0.2372,  0.1265,  ...,  0.2263, -0.2150, -0.2335],\n",
      "        [ 0.2698,  0.1762, -0.0363,  ...,  0.1978, -0.0680,  0.1031],\n",
      "        [-0.0850,  0.1430, -0.2155,  ...,  0.0882, -0.0823,  0.2300]],\n",
      "       dtype=torch.float64, requires_grad=True)\n"
     ]
    }
   ],
   "source": [
    "print(net1[0].weight)"
   ]
  },
  {
   "cell_type": "code",
   "execution_count": 32,
   "metadata": {},
   "outputs": [],
   "source": [
    "for layer in net2.modules():\n",
    "    if isinstance(layer, nn.Linear):\n",
    "        init.xavier_uniform_(layer.weight)"
   ]
  },
  {
   "cell_type": "code",
   "execution_count": null,
   "metadata": {},
   "outputs": [],
   "source": []
  }
 ],
 "metadata": {
  "kernelspec": {
   "display_name": "Python 3",
   "language": "python",
   "name": "python3"
  },
  "language_info": {
   "codemirror_mode": {
    "name": "ipython",
    "version": 3
   },
   "file_extension": ".py",
   "mimetype": "text/x-python",
   "name": "python",
   "nbconvert_exporter": "python",
   "pygments_lexer": "ipython3",
   "version": "3.6.5"
  }
 },
 "nbformat": 4,
 "nbformat_minor": 2
}
