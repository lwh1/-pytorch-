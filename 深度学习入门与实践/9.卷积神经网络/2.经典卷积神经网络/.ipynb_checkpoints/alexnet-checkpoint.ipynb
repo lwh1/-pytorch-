{
 "cells": [
  {
   "cell_type": "markdown",
   "metadata": {},
   "source": [
    "## AlexNet\n",
    "在2012年, 由 [Alex Krizhevsky](https://www.cs.toronto.edu/~kriz/), [Ilya Sutskever](http://www.cs.toronto.edu/~ilya/), [Geoffrey Hinton](http://www.cs.toronto.edu/~hinton/)提出了一种使用卷积神经网络的方法, 以 [0.85](http://image-net.org/challenges/LSVRC/2012/results.html#abstract) 的`top-5`正确率一举获得当年分类比赛的冠军, 超越使用传统方法的第二名10个百分点, 震惊了当时的学术界, 从此开启了人工智能领域的新篇章.\n",
    "\n",
    "这次的课程我们就来复现一次`AlexNet`, 首先来看它的网络结构\n",
    "\n",
    "<img src=\"https://ws4.sinaimg.cn/large/006tKfTcgy1fodv2ppd85j307l0n13yk.jpg\">\n",
    "\n",
    "可以看出`AlexNet`就是几个卷积池化堆叠后连接几个全连接层, 下面就让我们来尝试仿照这个结构来解决[cifar10](https://www.cs.toronto.edu/~kriz/cifar.html)分类问题."
   ]
  },
  {
   "cell_type": "code",
   "execution_count": 1,
   "metadata": {},
   "outputs": [],
   "source": [
    "import torch\n",
    "from torch import nn\n",
    "import numpy as np\n",
    "from torchvision.datasets import CIFAR10"
   ]
  },
  {
   "cell_type": "markdown",
   "metadata": {},
   "source": [
    "按照上面的结构，我们可以定义AlexNet"
   ]
  },
  {
   "cell_type": "code",
   "execution_count": 2,
   "metadata": {},
   "outputs": [],
   "source": [
    "class AlexNet(nn.Module):\n",
    "    def __init__(self):\n",
    "        super().__init__()\n",
    "        \n",
    "        #第一层是5x5的卷积，输入channel是3， 输出的channel是64， 步长为1， 没有padding\n",
    "        self.conv1 = nn.Sequential(\n",
    "                        nn.Conv2d(3, 64, 5),\n",
    "                        nn.ReLU(True))\n",
    "        \n",
    "        #第二层是3x3的池化， 步长是2， 没有padding\n",
    "        self.max_pool1 = nn.MaxPool2d(3, 2)\n",
    "        \n",
    "        #第三层是5x5的池化，输入channel是64， 输出channel是64，步长为1， 没有padding\n",
    "        self.conv2 = nn.Sequential(\n",
    "                        nn.Conv2d(64, 64, 5),\n",
    "                        nn.ReLU(True))\n",
    "        \n",
    "        #第四层是3x3的池化，步长为2， 没有padding\n",
    "        self.max_pool2 = nn.MaxPool2d(3, 2)\n",
    "        \n",
    "        #第五层是全连接层，输入是1024， 输出是384\n",
    "        self.fc1 = nn.Sequential(\n",
    "                    nn.Linear(1024, 384),\n",
    "                    nn.ReLU(True))\n",
    "        \n",
    "        #第六层是全连接层，输入是384，输出是192\n",
    "        self.fc2 = nn.Sequential(\n",
    "                    nn.Linear(384, 192),\n",
    "                    nn.ReLU(True))\n",
    "        \n",
    "        #第七层是全连接层，输入是192，输出是10\n",
    "        self.fc3 = nn.Sequential(\n",
    "                    nn.Linear(192, 10),\n",
    "                    nn.ReLU(True))\n",
    "    \n",
    "    def forward(self, x):\n",
    "        x = self.conv1(x)\n",
    "        x = self.max_pool1(x)\n",
    "        x = self.conv2(x)\n",
    "        x = self.max_pool2(x)\n",
    "        #将矩阵拉平\n",
    "        x = x.view(x.shape[0], -1)\n",
    "        x = self.fc1(x)\n",
    "        x = self.fc2(x)\n",
    "        x = self.fc3(x)\n",
    "        return x"
   ]
  },
  {
   "cell_type": "code",
   "execution_count": 3,
   "metadata": {},
   "outputs": [],
   "source": [
    "alexnet = AlexNet()"
   ]
  },
  {
   "cell_type": "code",
   "execution_count": 4,
   "metadata": {},
   "outputs": [
    {
     "data": {
      "text/plain": [
       "AlexNet(\n",
       "  (conv1): Sequential(\n",
       "    (0): Conv2d(3, 64, kernel_size=(5, 5), stride=(1, 1))\n",
       "    (1): ReLU(inplace)\n",
       "  )\n",
       "  (max_pool1): MaxPool2d(kernel_size=3, stride=2, padding=0, dilation=1, ceil_mode=False)\n",
       "  (conv2): Sequential(\n",
       "    (0): Conv2d(64, 64, kernel_size=(5, 5), stride=(1, 1))\n",
       "    (1): ReLU(inplace)\n",
       "  )\n",
       "  (max_pool2): MaxPool2d(kernel_size=3, stride=2, padding=0, dilation=1, ceil_mode=False)\n",
       "  (fc1): Sequential(\n",
       "    (0): Linear(in_features=1024, out_features=384, bias=True)\n",
       "    (1): ReLU(inplace)\n",
       "  )\n",
       "  (fc2): Sequential(\n",
       "    (0): Linear(in_features=384, out_features=192, bias=True)\n",
       "    (1): ReLU(inplace)\n",
       "  )\n",
       "  (fc3): Sequential(\n",
       "    (0): Linear(in_features=192, out_features=10, bias=True)\n",
       "    (1): ReLU(inplace)\n",
       "  )\n",
       ")"
      ]
     },
     "execution_count": 4,
     "metadata": {},
     "output_type": "execute_result"
    }
   ],
   "source": [
    "alexnet"
   ]
  },
  {
   "cell_type": "markdown",
   "metadata": {},
   "source": [
    "我们验证一下网络结构是否正确，输入一张32x32的图片，看看输出"
   ]
  },
  {
   "cell_type": "code",
   "execution_count": 5,
   "metadata": {},
   "outputs": [
    {
     "name": "stdout",
     "output_type": "stream",
     "text": [
      "torch.Size([1, 10])\n"
     ]
    }
   ],
   "source": [
    "#定义输入为(1, 3, 32, 32)\n",
    "input_demo = torch.zeros(1, 3, 32, 32)\n",
    "output_demo = alexnet(input_demo)\n",
    "print(output_demo.shape)"
   ]
  },
  {
   "cell_type": "code",
   "execution_count": 6,
   "metadata": {},
   "outputs": [
    {
     "name": "stdout",
     "output_type": "stream",
     "text": [
      "Files already downloaded and verified\n",
      "Files already downloaded and verified\n"
     ]
    }
   ],
   "source": [
    "from utils import train\n",
    "\n",
    "def data_tf(x):\n",
    "    x = np.array(x, dtype = 'float32') / 255\n",
    "    x = (x - 0.5) / 0.5\n",
    "    x = x.transpose((2, 0, 1)) #将channel放到第一维，这是pytorch要求的输入方式\n",
    "    x = torch.from_numpy(x)\n",
    "    return x\n",
    "\n",
    "train_set = CIFAR10('./data', train = True, transform = data_tf, download = True)\n",
    "train_data = torch.utils.data.DataLoader(train_set, batch_size = 64, shuffle = True)\n",
    "test_set = CIFAR10('./data', train = False, transform = data_tf, download = True)\n",
    "test_data = torch.utils.data.DataLoader(test_set, batch_size = 64, shuffle = True)\n",
    "\n",
    "net = AlexNet().cuda()\n",
    "optimizer = torch.optim.Adam(net.parameters(), lr = 0.001)\n",
    "criterion = nn.CrossEntropyLoss()"
   ]
  },
  {
   "cell_type": "code",
   "execution_count": 7,
   "metadata": {},
   "outputs": [
    {
     "name": "stdout",
     "output_type": "stream",
     "text": [
      "Epoch 0. Train Loss: 1.966493, Train Acc: 0.311021, Valid Loss: 1.797925, Valid Acc: 0.373706, Time 00:00:05\n",
      "Epoch 1. Train Loss: 1.709553, Train Acc: 0.397359, Valid Loss: 1.699704, Valid Acc: 0.397592, Time 00:00:06\n",
      "Epoch 2. Train Loss: 1.578495, Train Acc: 0.448509, Valid Loss: 1.593214, Valid Acc: 0.453722, Time 00:00:06\n",
      "Epoch 3. Train Loss: 1.424541, Train Acc: 0.507033, Valid Loss: 1.328853, Valid Acc: 0.548368, Time 00:00:06\n",
      "Epoch 4. Train Loss: 1.224259, Train Acc: 0.578105, Valid Loss: 1.267939, Valid Acc: 0.559813, Time 00:00:06\n",
      "Epoch 5. Train Loss: 1.164358, Train Acc: 0.591532, Valid Loss: 1.232658, Valid Acc: 0.573547, Time 00:00:06\n",
      "Epoch 6. Train Loss: 1.122214, Train Acc: 0.603321, Valid Loss: 1.250253, Valid Acc: 0.565187, Time 00:00:06\n",
      "Epoch 7. Train Loss: 1.082381, Train Acc: 0.610214, Valid Loss: 1.247788, Valid Acc: 0.570462, Time 00:00:06\n",
      "Epoch 8. Train Loss: 1.047651, Train Acc: 0.618586, Valid Loss: 1.256945, Valid Acc: 0.567675, Time 00:00:06\n",
      "Epoch 9. Train Loss: 1.016830, Train Acc: 0.626459, Valid Loss: 1.242419, Valid Acc: 0.577528, Time 00:00:06\n",
      "Epoch 10. Train Loss: 0.990712, Train Acc: 0.632213, Valid Loss: 1.284976, Valid Acc: 0.567377, Time 00:00:06\n",
      "Epoch 11. Train Loss: 0.964848, Train Acc: 0.638547, Valid Loss: 1.287565, Valid Acc: 0.571357, Time 00:00:06\n",
      "Epoch 12. Train Loss: 0.946576, Train Acc: 0.640685, Valid Loss: 1.310634, Valid Acc: 0.570163, Time 00:00:06\n",
      "Epoch 13. Train Loss: 0.926101, Train Acc: 0.645800, Valid Loss: 1.363249, Valid Acc: 0.560311, Time 00:00:06\n",
      "Epoch 14. Train Loss: 0.915423, Train Acc: 0.648457, Valid Loss: 1.358739, Valid Acc: 0.571955, Time 00:00:06\n",
      "Epoch 15. Train Loss: 0.898071, Train Acc: 0.651694, Valid Loss: 1.369880, Valid Acc: 0.568670, Time 00:00:06\n",
      "Epoch 16. Train Loss: 0.888578, Train Acc: 0.652314, Valid Loss: 1.407930, Valid Acc: 0.561107, Time 00:00:06\n",
      "Epoch 17. Train Loss: 0.872327, Train Acc: 0.657569, Valid Loss: 1.530167, Valid Acc: 0.561007, Time 00:00:06\n",
      "Epoch 18. Train Loss: 0.869714, Train Acc: 0.656250, Valid Loss: 1.457310, Valid Acc: 0.557126, Time 00:00:06\n",
      "Epoch 19. Train Loss: 0.852084, Train Acc: 0.661605, Valid Loss: 1.505857, Valid Acc: 0.562699, Time 00:00:06\n"
     ]
    }
   ],
   "source": [
    "train(net, train_data, test_data, 20, optimizer , criterion)"
   ]
  },
  {
   "cell_type": "code",
   "execution_count": null,
   "metadata": {},
   "outputs": [],
   "source": []
  }
 ],
 "metadata": {
  "kernelspec": {
   "display_name": "Python 3",
   "language": "python",
   "name": "python3"
  },
  "language_info": {
   "codemirror_mode": {
    "name": "ipython",
    "version": 3
   },
   "file_extension": ".py",
   "mimetype": "text/x-python",
   "name": "python",
   "nbconvert_exporter": "python",
   "pygments_lexer": "ipython3",
   "version": "3.6.5"
  }
 },
 "nbformat": 4,
 "nbformat_minor": 2
}
