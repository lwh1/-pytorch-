{
 "cells": [
  {
   "cell_type": "markdown",
   "metadata": {},
   "source": [
    "# ResNet\n",
    "ResNet 通过引入了跨层链接解决了梯度回传消失的问题。\n",
    "\n",
    "![](https://ws1.sinaimg.cn/large/006tNc79ly1fmptq2snv9j30j808t74a.jpg)\n",
    "\n",
    "这就是普通的网络连接跟跨层残差连接的对比图，使用普通的连接，上层的梯度必须要一层一层传回来，而是用残差连接，相当于中间有了一条更短的路，梯度能够从这条更短的路传回来，避免了梯度过小的情况。\n",
    "\n",
    "假设某层的输入是 x，期望输出是 H(x)， 如果我们直接把输入 x 传到输出作为初始结果，这就是一个更浅层的网络，更容易训练，而这个网络没有学会的部分，我们可以使用更深的网络 F(x) 去训练它，使得训练更加容易，最后希望拟合的结果就是 F(x) = H(x) - x，这就是一个残差的结构\n",
    "\n",
    "残差网络的结构就是上面这种残差块的堆叠，下面让我们来实现一个 residual block"
   ]
  },
  {
   "cell_type": "code",
   "execution_count": 1,
   "metadata": {},
   "outputs": [],
   "source": [
    "import numpy as np\n",
    "import torch\n",
    "from torch import nn\n",
    "from torchvision.datasets import CIFAR10\n",
    "import torch.nn.functional as F"
   ]
  },
  {
   "cell_type": "code",
   "execution_count": 2,
   "metadata": {},
   "outputs": [],
   "source": [
    "def conv_3x3(in_channels, out_channels, stride = 1):\n",
    "    return nn.Conv2d(in_channels, out_channels, 3, stride = stride, padding = 1, bias = False)"
   ]
  },
  {
   "cell_type": "code",
   "execution_count": 3,
   "metadata": {},
   "outputs": [],
   "source": [
    "class residual_block(nn.Module):\n",
    "    def __init__(self, in_channels, out_channels, same_shape = True):\n",
    "        super(residual_block, self).__init__()\n",
    "        self.same_shape = same_shape\n",
    "        stride = 1 if self.same_shape else 2\n",
    "        \n",
    "        self.conv1 = conv_3x3(in_channels, out_channels, stride = stride)\n",
    "        self.bn1 = nn.BatchNorm2d(out_channels)\n",
    "        \n",
    "        self.conv2 = conv_3x3(out_channels, out_channels)\n",
    "        self.bn2 = nn.BatchNorm2d(out_channels)\n",
    "        \n",
    "        if not self.same_shape:\n",
    "            self.conv3 = nn.Conv2d(in_channels, out_channels, 1, stride = stride)\n",
    "        \n",
    "    def forward(self, x):\n",
    "        out = self.conv1(x)\n",
    "        out = F.relu(self.bn1(out), inplace = True)\n",
    "        out = self.conv2(out)\n",
    "        out = F.relu(self.bn2(out), inplace = True)\n",
    "        \n",
    "        if not self.same_shape:\n",
    "            x = self.conv3(x)\n",
    "        return F.relu(x + out, True)"
   ]
  },
  {
   "cell_type": "markdown",
   "metadata": {},
   "source": [
    "我们测试一下一个residual_block的输出"
   ]
  },
  {
   "cell_type": "code",
   "execution_count": 4,
   "metadata": {},
   "outputs": [
    {
     "name": "stdout",
     "output_type": "stream",
     "text": [
      "input:torch.Size([1, 32, 96, 96])\n",
      "output:torch.Size([1, 32, 96, 96])\n"
     ]
    }
   ],
   "source": [
    "#输入输出形状相同\n",
    "test_net = residual_block(32, 32)\n",
    "test_x = torch.zeros(1, 32, 96, 96)\n",
    "print(\"input:{}\".format(test_x.shape))\n",
    "test_y = test_net(test_x)\n",
    "print(\"output:{}\".format(test_y.shape))"
   ]
  },
  {
   "cell_type": "code",
   "execution_count": 5,
   "metadata": {},
   "outputs": [
    {
     "name": "stdout",
     "output_type": "stream",
     "text": [
      "input:torch.Size([1, 32, 96, 96])\n",
      "output:torch.Size([1, 32, 48, 48])\n"
     ]
    }
   ],
   "source": [
    "#输入输出形状不同\n",
    "test_net = residual_block(32, 32, False)\n",
    "test_x = torch.zeros(1, 32, 96, 96)\n",
    "print('input:{}'.format(test_x.shape))\n",
    "test_y = test_net(test_x)\n",
    "print('output:{}'.format(test_y.shape))"
   ]
  },
  {
   "cell_type": "markdown",
   "metadata": {},
   "source": [
    "下面我们实现一个ResNet，它就是residual_block模块的堆叠"
   ]
  },
  {
   "cell_type": "code",
   "execution_count": 6,
   "metadata": {},
   "outputs": [],
   "source": [
    "class ResNet(nn.Module):\n",
    "    def __init__(self,in_channels, num_classes, verbose = False):\n",
    "        super(ResNet, self).__init__()\n",
    "        self.verbose = verbose\n",
    "        \n",
    "        self.block1 = nn.Conv2d(in_channels, 64, 7, 2)\n",
    "        \n",
    "        self.block2 = nn.Sequential(\n",
    "                    nn.MaxPool2d(3, 2),\n",
    "                    residual_block(64, 64),\n",
    "                    residual_block(64, 64))\n",
    "        \n",
    "        self.block3 = nn.Sequential(\n",
    "                    residual_block(64, 128, False),\n",
    "                    residual_block(128, 128))\n",
    "        \n",
    "        self.block4 = nn.Sequential(\n",
    "                    residual_block(128, 256, False),\n",
    "                    residual_block(256, 256))\n",
    "        \n",
    "        self.block5 = nn.Sequential(\n",
    "                    residual_block(256, 512, False),\n",
    "                    residual_block(512, 512),\n",
    "                    nn.AvgPool2d(3))\n",
    "        \n",
    "        self.classifier = nn.Linear(512, num_classes)\n",
    "    \n",
    "    def forward(self, x):\n",
    "        x = self.block1(x)\n",
    "        if self.verbose:\n",
    "            print('block1 output:{}'.format(x.shape))\n",
    "        x = self.block2(x)\n",
    "        if self.verbose:\n",
    "            print('block2 output:{}'.format(x.shape))\n",
    "        x = self.block3(x)\n",
    "        if self.verbose:\n",
    "            print('block3 output:{}'.format(x.shape))\n",
    "        x = self.block4(x)\n",
    "        if self.verbose:\n",
    "            print('block4 output:{}'.format(x.shape))\n",
    "        x = self.block5(x)\n",
    "        if self.verbose:\n",
    "            print('block5 output:{}'.format(x.shape))\n",
    "        x = x.view(x.shape[0], -1)\n",
    "        x = self.classifier(x)\n",
    "        return x"
   ]
  },
  {
   "cell_type": "markdown",
   "metadata": {},
   "source": [
    "输出一下每个block后的大小"
   ]
  },
  {
   "cell_type": "code",
   "execution_count": 7,
   "metadata": {},
   "outputs": [
    {
     "name": "stdout",
     "output_type": "stream",
     "text": [
      "block1 output:torch.Size([1, 64, 45, 45])\n",
      "block2 output:torch.Size([1, 64, 22, 22])\n",
      "block3 output:torch.Size([1, 128, 11, 11])\n",
      "block4 output:torch.Size([1, 256, 6, 6])\n",
      "block5 output:torch.Size([1, 512, 1, 1])\n",
      "output:torch.Size([1, 10])\n"
     ]
    }
   ],
   "source": [
    "test_net = ResNet(3, 10, True)\n",
    "test_x = torch.zeros(1, 3, 96, 96)\n",
    "test_y = test_net(test_x)\n",
    "print('output:{}'.format(test_y.shape))"
   ]
  },
  {
   "cell_type": "code",
   "execution_count": 8,
   "metadata": {},
   "outputs": [
    {
     "name": "stdout",
     "output_type": "stream",
     "text": [
      "Files already downloaded and verified\n",
      "Files already downloaded and verified\n"
     ]
    }
   ],
   "source": [
    "from utils import train\n",
    "\n",
    "def data_tf(x):\n",
    "    x = x.resize((96, 96),2)#将图片放大到96x96\n",
    "    x = np.array(x, dtype = 'float32') / 255\n",
    "    x = (x - 0.5) / 0.5\n",
    "    x = x.transpose((2, 0, 1))\n",
    "    x = torch.from_numpy(x)\n",
    "    return x\n",
    "\n",
    "train_set = CIFAR10('./data', train = True, transform = data_tf, download = True)\n",
    "train_data = torch.utils.data.DataLoader(train_set, batch_size = 64, shuffle = True)\n",
    "test_set = CIFAR10('./data', train = False, transform = data_tf, download = True)\n",
    "test_data = torch.utils.data.DataLoader(test_set, batch_size = 128, shuffle = False)\n",
    "\n",
    "net = ResNet(3, 10)\n",
    "optimizer = torch.optim.Adam(net.parameters(), lr = 0.01)\n",
    "criterion = nn.CrossEntropyLoss()"
   ]
  },
  {
   "cell_type": "code",
   "execution_count": 9,
   "metadata": {},
   "outputs": [
    {
     "name": "stderr",
     "output_type": "stream",
     "text": [
      "/input/utils.py:52: UserWarning: volatile was removed and now has no effect. Use `with torch.no_grad():` instead.\n",
      "  im = Variable(im.cuda(), volatile=True)\n",
      "/input/utils.py:53: UserWarning: volatile was removed and now has no effect. Use `with torch.no_grad():` instead.\n",
      "  label = Variable(label.cuda(), volatile=True)\n"
     ]
    },
    {
     "name": "stdout",
     "output_type": "stream",
     "text": [
      "Epoch 0. Train Loss: 1.634481, Train Acc: 0.398178, Valid Loss: 1.518368, Valid Acc: 0.462816, Time 00:02:06\n",
      "Epoch 1. Train Loss: 1.195239, Train Acc: 0.571451, Valid Loss: 1.334072, Valid Acc: 0.536689, Time 00:02:20\n",
      "Epoch 2. Train Loss: 1.026437, Train Acc: 0.633672, Valid Loss: 1.127485, Valid Acc: 0.607397, Time 00:02:24\n",
      "Epoch 3. Train Loss: 0.918508, Train Acc: 0.674732, Valid Loss: 1.059035, Valid Acc: 0.624901, Time 00:02:21\n",
      "Epoch 4. Train Loss: 0.824177, Train Acc: 0.707121, Valid Loss: 1.045619, Valid Acc: 0.651404, Time 00:02:16\n",
      "Epoch 5. Train Loss: 0.747524, Train Acc: 0.736493, Valid Loss: 0.864958, Valid Acc: 0.698774, Time 00:02:18\n",
      "Epoch 6. Train Loss: 0.671451, Train Acc: 0.762728, Valid Loss: 0.839617, Valid Acc: 0.715091, Time 00:02:20\n",
      "Epoch 7. Train Loss: 0.614223, Train Acc: 0.783088, Valid Loss: 0.893341, Valid Acc: 0.702828, Time 00:02:15\n",
      "Epoch 8. Train Loss: 0.549866, Train Acc: 0.803269, Valid Loss: 0.824935, Valid Acc: 0.727650, Time 00:02:08\n",
      "Epoch 9. Train Loss: 0.493376, Train Acc: 0.825068, Valid Loss: 0.905791, Valid Acc: 0.715585, Time 00:02:17\n",
      "Epoch 10. Train Loss: 0.438695, Train Acc: 0.843690, Valid Loss: 0.862761, Valid Acc: 0.730716, Time 00:02:10\n",
      "Epoch 11. Train Loss: 0.386276, Train Acc: 0.862052, Valid Loss: 0.905402, Valid Acc: 0.731112, Time 00:02:18\n",
      "Epoch 12. Train Loss: 0.352066, Train Acc: 0.874620, Valid Loss: 0.928082, Valid Acc: 0.726760, Time 00:02:19\n",
      "Epoch 13. Train Loss: 0.319888, Train Acc: 0.888167, Valid Loss: 1.031485, Valid Acc: 0.719541, Time 00:02:13\n",
      "Epoch 14. Train Loss: 0.285690, Train Acc: 0.899097, Valid Loss: 1.104441, Valid Acc: 0.719739, Time 00:02:22\n",
      "Epoch 15. Train Loss: 0.255025, Train Acc: 0.908068, Valid Loss: 1.012528, Valid Acc: 0.733089, Time 00:02:19\n",
      "Epoch 16. Train Loss: 0.227986, Train Acc: 0.918918, Valid Loss: 1.029329, Valid Acc: 0.738232, Time 00:02:11\n",
      "Epoch 17. Train Loss: 0.214726, Train Acc: 0.924173, Valid Loss: 1.082636, Valid Acc: 0.738924, Time 00:02:14\n",
      "Epoch 18. Train Loss: 0.200833, Train Acc: 0.931566, Valid Loss: 1.068706, Valid Acc: 0.737935, Time 00:02:17\n",
      "Epoch 19. Train Loss: 0.181564, Train Acc: 0.936221, Valid Loss: 1.253047, Valid Acc: 0.723991, Time 00:02:18\n"
     ]
    }
   ],
   "source": [
    "train(net, train_data, test_data, 20, optimizer, criterion)"
   ]
  },
  {
   "cell_type": "code",
   "execution_count": null,
   "metadata": {},
   "outputs": [],
   "source": []
  }
 ],
 "metadata": {
  "kernelspec": {
   "display_name": "Python 3",
   "language": "python",
   "name": "python3"
  },
  "language_info": {
   "codemirror_mode": {
    "name": "ipython",
    "version": 3
   },
   "file_extension": ".py",
   "mimetype": "text/x-python",
   "name": "python",
   "nbconvert_exporter": "python",
   "pygments_lexer": "ipython3",
   "version": "3.6.5"
  }
 },
 "nbformat": 4,
 "nbformat_minor": 2
}
