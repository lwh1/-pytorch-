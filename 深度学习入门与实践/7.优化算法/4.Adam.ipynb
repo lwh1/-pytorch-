{
 "cells": [
  {
   "cell_type": "markdown",
   "metadata": {},
   "source": [
    "# Adam"
   ]
  },
  {
   "cell_type": "markdown",
   "metadata": {},
   "source": [
    "Adam是一个结合了动量法和RMSProp的优化算法， 兼具两者的优点\n",
    "\n",
    "下面我们来实现一下Adam"
   ]
  },
  {
   "cell_type": "code",
   "execution_count": 1,
   "metadata": {},
   "outputs": [],
   "source": [
    "def adam(parameters, vs, sqrs, t, lr = 1e-3, beta1 = 0.9, beta2 = 0.999):\n",
    "    eps = 1e-10\n",
    "    for param, v, sqr in zip(parameters, vs, sqrs):\n",
    "        v[:] = beta1 * v + (1 - beta1) * param.grad.data\n",
    "        sqr[:] = beta2 * sqr + (1 - beta2) * param.grad.data ** 2\n",
    "        v_correct = v / (1 - beta1 ** t)\n",
    "        sqr_correct = sqr / (1 - beta2 ** t)\n",
    "        param.data = param.data - lr * (v_correct / torch.sqrt(sqr_correct + eps))"
   ]
  },
  {
   "cell_type": "code",
   "execution_count": 2,
   "metadata": {},
   "outputs": [],
   "source": [
    "import numpy as np\n",
    "import torch \n",
    "from torch.utils.data import DataLoader\n",
    "from torch import nn\n",
    "from torchvision.datasets import MNIST\n",
    "import matplotlib.pyplot as plt\n",
    "import time\n",
    "%matplotlib inline"
   ]
  },
  {
   "cell_type": "code",
   "execution_count": 3,
   "metadata": {},
   "outputs": [],
   "source": [
    "def data_tf(x):\n",
    "    x = np.array(x, dtype = 'float32') / 255\n",
    "    x = (x - 0.5) / 0.5\n",
    "    x = x.reshape((-1,))\n",
    "    x = torch.from_numpy(x)\n",
    "    return x"
   ]
  },
  {
   "cell_type": "code",
   "execution_count": 4,
   "metadata": {},
   "outputs": [],
   "source": [
    "train_set = MNIST('./data', train = True, transform = data_tf, download = True)\n",
    "test_set = MNIST('./data', train = False, transform = data_tf, download = True)"
   ]
  },
  {
   "cell_type": "code",
   "execution_count": 5,
   "metadata": {},
   "outputs": [],
   "source": [
    "critersion = nn.CrossEntropyLoss() #定义loss函数"
   ]
  },
  {
   "cell_type": "code",
   "execution_count": 6,
   "metadata": {},
   "outputs": [],
   "source": [
    "train_data = DataLoader(train_set, batch_size = 64, shuffle = True)"
   ]
  },
  {
   "cell_type": "code",
   "execution_count": 7,
   "metadata": {},
   "outputs": [],
   "source": [
    "#用Sequential定义一个三层网络\n",
    "net = nn.Sequential(\n",
    "    nn.Linear(784, 200),\n",
    "    nn.ReLU(),\n",
    "    nn.Linear(200, 100),\n",
    "    nn.ReLU(),\n",
    "    nn.Linear(100, 10))"
   ]
  },
  {
   "cell_type": "code",
   "execution_count": 8,
   "metadata": {},
   "outputs": [],
   "source": [
    "#初始化梯度平方项和动量项\n",
    "sqrs = []\n",
    "vs = []\n",
    "for param in net.parameters():\n",
    "    sqrs.append(torch.zeros_like(param.data))\n",
    "    vs.append(torch.zeros_like(param.data))\n",
    "\n",
    "t = 1"
   ]
  },
  {
   "cell_type": "code",
   "execution_count": 10,
   "metadata": {},
   "outputs": [
    {
     "name": "stdout",
     "output_type": "stream",
     "text": [
      "epoch:0, train_loss:0.349306\n",
      "epoch:1, train_loss:0.156132\n",
      "epoch:2, train_loss:0.116504\n",
      "epoch:3, train_loss:0.093381\n",
      "epoch:4, train_loss:0.080764\n",
      "训练时间：125.518\n"
     ]
    }
   ],
   "source": [
    "#开始训练\n",
    "losses = []\n",
    "idx = 0\n",
    "start = time.time()\n",
    "for e in range(5):\n",
    "    train_loss = 0\n",
    "    for value, label in train_data:\n",
    "        #前向传播\n",
    "        out = net(value)\n",
    "        loss = critersion(out, label)\n",
    "        \n",
    "        #反向传播\n",
    "        net.zero_grad()\n",
    "        loss.backward()\n",
    "        adam(net.parameters(), vs, sqrs,t)\n",
    "        t += 1\n",
    "        \n",
    "        #误差计算\n",
    "        train_loss += loss.data.item()\n",
    "        if idx % 30 == 0:\n",
    "            losses.append(loss.data.item())\n",
    "        idx += 1\n",
    "    print('epoch:{}, train_loss:{:.6f}'.format(e, train_loss / len(train_data)))\n",
    "end = time.time()\n",
    "print('训练时间：{:.3f}'.format(end - start))"
   ]
  },
  {
   "cell_type": "code",
   "execution_count": 11,
   "metadata": {},
   "outputs": [
    {
     "data": {
      "text/plain": [
       "<matplotlib.legend.Legend at 0x233dd4c3f60>"
      ]
     },
     "execution_count": 11,
     "metadata": {},
     "output_type": "execute_result"
    },
    {
     "data": {
      "image/png": "[encoded data removed]",
      "text/plain": [
       "<Figure size 432x288 with 1 Axes>"
      ]
     },
     "metadata": {},
     "output_type": "display_data"
    }
   ],
   "source": [
    "x_axis = np.linspace(0, 5, len(losses), endpoint = True)\n",
    "plt.semilogy(x_axis, losses, label = 'Adam')\n",
    "plt.legend(loc = 'best')"
   ]
  },
  {
   "cell_type": "markdown",
   "metadata": {},
   "source": [
    "可以看到使用Adam算法能够时loss更快更好的收敛，但是一定要小心学习率的设定，使用自适应算法一般需要较小的学习率"
   ]
  },
  {
   "cell_type": "markdown",
   "metadata": {},
   "source": [
    "pytorch中也内置了Adam的实现，只需要调用torch.optim.Adam,下面是例子"
   ]
  },
  {
   "cell_type": "code",
   "execution_count": 13,
   "metadata": {},
   "outputs": [],
   "source": [
    "train_data = DataLoader(train_set, batch_size = 64, shuffle = True)\n",
    "#尝试用module来实现神经网络\n",
    "class module_net(nn.Module):\n",
    "    def __init__(self):\n",
    "        super(module_net, self).__init__()\n",
    "        self.layer1 = nn.Linear(784, 200)\n",
    "        self.layer2 = nn.ReLU()\n",
    "        self.layer3 = nn.Linear(200, 10)\n",
    "    \n",
    "    def forward(self, x):\n",
    "        x = self.layer1(x)\n",
    "        x = self.layer2(x)\n",
    "        x = self.layer3(x)\n",
    "        return x"
   ]
  },
  {
   "cell_type": "code",
   "execution_count": 16,
   "metadata": {},
   "outputs": [],
   "source": [
    "mo_net = module_net()\n",
    "optimizer = torch.optim.Adam(mo_net.parameters(), lr = 0.001) #定义优化器为Adam"
   ]
  },
  {
   "cell_type": "code",
   "execution_count": 19,
   "metadata": {},
   "outputs": [
    {
     "name": "stdout",
     "output_type": "stream",
     "text": [
      "epoch:0, train_loss:0.169336\n",
      "epoch:1, train_loss:0.123296\n",
      "epoch:2, train_loss:0.102451\n",
      "epoch:3, train_loss:0.085636\n",
      "epoch:4, train_loss:0.075105\n",
      "训练时间:78.15230941772461s\n"
     ]
    }
   ],
   "source": [
    "#开始训练\n",
    "start = time.time()\n",
    "for e in range(5):\n",
    "    train_loss = 0\n",
    "    for value, label in train_data:\n",
    "        #前向传播\n",
    "        out = mo_net(value)\n",
    "        loss = critersion(out, label)\n",
    "        \n",
    "        #反向传播\n",
    "        optimizer.zero_grad()\n",
    "        loss.backward()\n",
    "        optimizer.step()\n",
    "        \n",
    "        #误差计算\n",
    "        train_loss += loss.data.item()\n",
    "        \n",
    "    print('epoch:{}, train_loss:{:.6f}'.format(e, train_loss / len(train_data)))\n",
    "end = time.time()\n",
    "print('训练时间:{}s'.format(end - start))"
   ]
  },
  {
   "cell_type": "code",
   "execution_count": null,
   "metadata": {},
   "outputs": [],
   "source": []
  }
 ],
 "metadata": {
  "kernelspec": {
   "display_name": "Python 3",
   "language": "python",
   "name": "python3"
  },
  "language_info": {
   "codemirror_mode": {
    "name": "ipython",
    "version": 3
   },
   "file_extension": ".py",
   "mimetype": "text/x-python",
   "name": "python",
   "nbconvert_exporter": "python",
   "pygments_lexer": "ipython3",
   "version": "3.6.5"
  }
 },
 "nbformat": 4,
 "nbformat_minor": 2
}
